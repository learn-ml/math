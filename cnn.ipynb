{
 "cells": [
  {
   "cell_type": "code",
   "execution_count": 90,
   "metadata": {
    "collapsed": false
   },
   "outputs": [
    {
     "name": "stdout",
     "output_type": "stream",
     "text": [
      "[[[348 393]\n",
      "  [528 573]]]\n"
     ]
    }
   ],
   "source": [
    "# -*-coding:utf-8-*-\n",
    "\n",
    "import numpy as np\n",
    "\n",
    "\n",
    "class ConvolutionNetwork:\n",
    "    \"\"\"\n",
    "    simple convolutional network\n",
    "    \"\"\"\n",
    "\n",
    "    def __init__(self, kernalSize=(1, 1), kernalShape=(3, 3), kernalStep=1):\n",
    "        self.__kernalSize = kernalSize\n",
    "        self.__kernalShape = kernalShape\n",
    "        self.__kernalStep = kernalStep\n",
    "        #self.__kernals = np.random.randn(kernalSize[0], kernalSize[1], kernalShape[0], kernalShape[1])\n",
    "        self.__kernals = np.array([[[[1,2,3],[4,5,6],[7,8,9]]]])\n",
    "\n",
    "    def __convolute(self, data):\n",
    "        dm, dn = data.shape\n",
    "        km, kn = self.__kernalShape\n",
    "        kernalMapShape = (dm - km) / self.__kernalStep + 1, (dn - kn) / self.__kernalStep + 1\n",
    "        kernalMaps = []\n",
    "        for k in range(self.__kernalSize[1]):\n",
    "            kernalGroup = self.__kernals[:, k]\n",
    "            \n",
    "            # TODO: change np.sum to convoluteFunction such sum, mean etc.\n",
    "            kernalMap = sum([np.array([np.sum(data[i:i + km, j:j + kn] * kernal)\n",
    "                                       for i in range(0, dm - km + 1, self.__kernalStep)\n",
    "                                       for j in range(0, dn - kn + 1, self.__kernalStep)\n",
    "                                       ]).reshape(kernalMapShape) for kernal in kernalGroup])\n",
    "            kernalMaps.append(kernalMap)\n",
    "        self.__kernalMaps = np.array(kernalMaps)\n",
    "\n",
    "        print self.__kernalMaps\n",
    "    def fit(self, data):\n",
    "        self.__convolute(data)\n",
    "\n",
    "\n",
    "if __name__ == '__main__':\n",
    "    # data = np.random.rand(4, 4)\n",
    "    data = np.array([\n",
    "        [1,2,3,4],\n",
    "        [5,6,7,8],\n",
    "        [9,10,11,12],\n",
    "        [13,14,15,16]\n",
    "    ])\n",
    "    cnn = ConvolutionNetwork()\n",
    "    cnn.fit(data)"
   ]
  },
  {
   "cell_type": "code",
   "execution_count": 99,
   "metadata": {
    "collapsed": false
   },
   "outputs": [
    {
     "name": "stdout",
     "output_type": "stream",
     "text": [
      "[[ 1  2  3]\n",
      " [ 5  6  7]\n",
      " [ 9 10 11]]\n",
      "[[ 2  3  4]\n",
      " [ 6  7  8]\n",
      " [10 11 12]]\n",
      "[[ 5  6  7]\n",
      " [ 9 10 11]\n",
      " [13 14 15]]\n",
      "[[ 6  7  8]\n",
      " [10 11 12]\n",
      " [14 15 16]]\n",
      "[[ 1  4  9]\n",
      " [20 30 42]\n",
      " [63 80 99]]\n",
      "348\n"
     ]
    }
   ],
   "source": [
    "data = np.array([\n",
    "        [1,2,3,4],\n",
    "        [5,6,7,8],\n",
    "        [9,10,11,12],\n",
    "        [13,14,15,16]\n",
    "    ])\n",
    "d1 = data[0:3,0:3]\n",
    "d2 = data[0:3,1:4]\n",
    "d3 = data[1:4,0:3]\n",
    "d4 = data[1:4,1:4]\n",
    "print d1\n",
    "print d2\n",
    "print d3\n",
    "print d4\n",
    "kernal = np.array([\n",
    "        [1,2,3],\n",
    "        [4,5,6],\n",
    "        [7,8,9]\n",
    "    ])\n",
    "r1 = kernal*d1\n",
    "print r1\n",
    "print np.sum(r1)"
   ]
  },
  {
   "cell_type": "code",
   "execution_count": 19,
   "metadata": {
    "collapsed": false
   },
   "outputs": [
    {
     "name": "stdout",
     "output_type": "stream",
     "text": [
      "[[-0.13952662  0.1570312  -0.71920374]\n",
      " [ 1.24095539  0.9646782   0.25817817]\n",
      " [-0.09433619  0.02128432 -0.44333165]]\n"
     ]
    }
   ],
   "source": [
    "data = np.random.randn(5,5)\n",
    "print data[0:3,0:3]"
   ]
  },
  {
   "cell_type": "code",
   "execution_count": 100,
   "metadata": {
    "collapsed": false
   },
   "outputs": [
    {
     "data": {
      "text/plain": [
       "array([5, 7, 9])"
      ]
     },
     "execution_count": 100,
     "metadata": {},
     "output_type": "execute_result"
    }
   ],
   "source": [
    "data = [np.array([1,2,3]), np.array([4,5,6])]\n",
    "sum(data)"
   ]
  },
  {
   "cell_type": "code",
   "execution_count": null,
   "metadata": {
    "collapsed": true
   },
   "outputs": [],
   "source": []
  }
 ],
 "metadata": {
  "kernelspec": {
   "display_name": "Python 2",
   "language": "python",
   "name": "python2"
  },
  "language_info": {
   "codemirror_mode": {
    "name": "ipython",
    "version": 2
   },
   "file_extension": ".py",
   "mimetype": "text/x-python",
   "name": "python",
   "nbconvert_exporter": "python",
   "pygments_lexer": "ipython2",
   "version": "2.7.11"
  }
 },
 "nbformat": 4,
 "nbformat_minor": 0
}
