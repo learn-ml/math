{
 "cells": [
  {
   "cell_type": "code",
   "execution_count": 85,
   "metadata": {
    "collapsed": false
   },
   "outputs": [
    {
     "name": "stdout",
     "output_type": "stream",
     "text": [
      "[[[-1.37961161  1.12294704]\n",
      "  [-0.61865218 -0.56152676]]\n",
      "\n",
      " [[-2.41006578 -1.00599324]\n",
      "  [-0.84435148 -1.41900572]]\n",
      "\n",
      " [[ 1.23225084  2.89429355]\n",
      "  [ 0.61588324  3.73159031]]\n",
      "\n",
      " [[-0.4728081   1.92515915]\n",
      "  [ 1.14210498 -0.16798226]]\n",
      "\n",
      " [[-4.85288376 -4.56052888]\n",
      "  [-4.66957085 -3.97837708]]\n",
      "\n",
      " [[ 7.18773415  6.53776466]\n",
      "  [ 9.02556555  9.43959403]]\n",
      "\n",
      " [[-0.39396955  1.58411907]\n",
      "  [-1.86277637  0.36039542]]\n",
      "\n",
      " [[ 7.6626936   5.20113607]\n",
      "  [ 7.55970443  6.31405174]]\n",
      "\n",
      " [[-2.16300645 -3.18748275]\n",
      "  [-3.04169383 -3.08125731]]\n",
      "\n",
      " [[ 2.52839662  0.58815611]\n",
      "  [ 3.31778046  1.94692029]]]\n"
     ]
    }
   ],
   "source": [
    "# -*-coding:utf-8-*-\n",
    "\n",
    "import numpy as np\n",
    "\n",
    "\n",
    "class ConvolutionNetwork:\n",
    "    \"\"\"\n",
    "    simple convolutional network\n",
    "    \"\"\"\n",
    "\n",
    "    def __init__(self, kernalSize=(3, 10), kernalShape=(3, 3), kernalStep=1):\n",
    "        self.__kernalSize = kernalSize\n",
    "        self.__kernalShape = kernalShape\n",
    "        self.__kernalStep = kernalStep\n",
    "        self.__kernals = np.random.randn(kernalSize[0], kernalSize[1], kernalShape[0], kernalShape[1])\n",
    "\n",
    "    def __convolute(self, data):\n",
    "        dm, dn = data.shape\n",
    "        km, kn = self.__kernalShape\n",
    "        kernalMapShape = (dm - km) / self.__kernalStep + 1, (dn - kn) / self.__kernalStep + 1\n",
    "        kernalMaps = []\n",
    "        for k in range(self.__kernalSize[1]):\n",
    "            kernalGroup = self.__kernals[:, k]\n",
    "            \n",
    "            # TODO: change np.sum to convoluteFunction such sum, mean etc.\n",
    "            kernalMap = sum([np.array([np.sum(data[i:i + km, j:j + kn] * kernal)\n",
    "                                       for i in range(0, dm - km + 1, self.__kernalStep)\n",
    "                                       for j in range(0, dn - kn + 1, self.__kernalStep)\n",
    "                                       ]).reshape(kernalMapShape) for kernal in kernalGroup])\n",
    "            kernalMaps.append(kernalMap)\n",
    "        self.__kernalMaps = np.array(kernalMaps)\n",
    "\n",
    "        print self.__kernalMaps\n",
    "    def fit(self, data):\n",
    "        self.__convolute(data)\n",
    "\n",
    "\n",
    "if __name__ == '__main__':\n",
    "    data = np.random.rand(4, 4)\n",
    "    cnn = ConvolutionNetwork()\n",
    "    cnn.fit(data)"
   ]
  },
  {
   "cell_type": "code",
   "execution_count": null,
   "metadata": {
    "collapsed": true
   },
   "outputs": [],
   "source": []
  },
  {
   "cell_type": "code",
   "execution_count": 19,
   "metadata": {
    "collapsed": false
   },
   "outputs": [
    {
     "name": "stdout",
     "output_type": "stream",
     "text": [
      "[[-0.13952662  0.1570312  -0.71920374]\n",
      " [ 1.24095539  0.9646782   0.25817817]\n",
      " [-0.09433619  0.02128432 -0.44333165]]\n"
     ]
    }
   ],
   "source": [
    "data = np.random.randn(5,5)\n",
    "print data[0:3,0:3]"
   ]
  },
  {
   "cell_type": "code",
   "execution_count": null,
   "metadata": {
    "collapsed": true
   },
   "outputs": [],
   "source": []
  }
 ],
 "metadata": {
  "kernelspec": {
   "display_name": "Python 2",
   "language": "python",
   "name": "python2"
  },
  "language_info": {
   "codemirror_mode": {
    "name": "ipython",
    "version": 2
   },
   "file_extension": ".py",
   "mimetype": "text/x-python",
   "name": "python",
   "nbconvert_exporter": "python",
   "pygments_lexer": "ipython2",
   "version": "2.7.11"
  }
 },
 "nbformat": 4,
 "nbformat_minor": 0
}
