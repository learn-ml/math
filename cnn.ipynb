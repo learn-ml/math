{
 "cells": [
  {
   "cell_type": "code",
   "execution_count": 84,
   "metadata": {
    "collapsed": false
   },
   "outputs": [
    {
     "ename": "SyntaxError",
     "evalue": "invalid syntax (<ipython-input-84-af728aa68a3c>, line 48)",
     "output_type": "error",
     "traceback": [
      "\u001b[0;36m  File \u001b[0;32m\"<ipython-input-84-af728aa68a3c>\"\u001b[0;36m, line \u001b[0;32m48\u001b[0m\n\u001b[0;31m    def fit(self, data):\u001b[0m\n\u001b[0m      ^\u001b[0m\n\u001b[0;31mSyntaxError\u001b[0m\u001b[0;31m:\u001b[0m invalid syntax\n"
     ]
    }
   ],
   "source": [
    "import numpy as np\n",
    "\n",
    "class ConvolutionNetwork:\n",
    "    \"\"\"\n",
    "    simple convolutional network\n",
    "    \"\"\"\n",
    "    \n",
    "    def __init__(self, kernalSize = (1,10), kernalShape=(3,3), kernalStep = 1):\n",
    "        self.__kernalSize = kernalSize\n",
    "        self.__kernalShape = kernalShape\n",
    "        self.__kernalStep = kernalStep\n",
    "        self.__kernals = np.array([np.random.randn(kernalShape[0], kernalShape[1])\n",
    "                                  for i in range(kernalSize[0])\n",
    "                                  for j in range(kernalSize[1])])\n",
    "    \n",
    "    def __convolute(self, data):\n",
    "        dm, dn = data.shape\n",
    "        km, kn = self.__kernalShape\n",
    "        self.__filterMapShape = (dm - km)/self.__kernalStep+1, (dn - kn)/self.__kernalStep+1\n",
    "        kernalMaps = np.arrange(self.__kernalShape[1])\n",
    "        for k in range(self.__kernalShape[1]):\n",
    "            kernalGroup = self.kernals[:, k]\n",
    "            for kernal in kernalGroup:\n",
    "                kernalMap = np.sum([np.array([\n",
    "                        np.sum(data[i:i+km, j:j+kn]*kernal)\n",
    "                        for i in range(0, dm-km+1, self.__kernalStep)\n",
    "                        for j in range(0, dn-kn+1, self.__kernalStep)\n",
    "                    ]) for kernal in kernalGroup]\n",
    "        #kernalMaps[k]=kernalMap\n",
    "        #for kernal in self.__kernals:\n",
    "        #    self.__filterMaps = np.array(\n",
    "        #    [np.sum(data[i:i+km, j:j+kn] * kernal) \n",
    "        #     for i in range(0, dm-km+1, self.__kernalStep) \n",
    "        #     for j in range(0, dn-kn+1, self.__kernalStep)]\n",
    "        #).reshape(self.__filterMapShape)\n",
    "        #    print self.__filterMaps\n",
    "        #self.__filterMaps = np.random.randn(self.__filterMapShape[0], self.__filterMapShape[1])\n",
    "        \n",
    "        \n",
    "        \n",
    "        #for i in range(0, self.__filterMapShape[0], 1):\n",
    "        #    for j in range(0, self.__filterMapShape[1], 1):\n",
    "        #        self.__filterMaps[i][j] = np.sum(data[i:i+km, j:j+kn]*self.__kernal)\n",
    "        \n",
    "        #print self.__filterMaps\n",
    "\n",
    "        \n",
    "    def fit(self, data):\n",
    "        self.__convolute(data)\n",
    "        pass\n",
    "\n",
    "if __name__ == '__main__':\n",
    "    data = np.random.rand(4, 4)\n",
    "    print data\n",
    "    cnn = ConvolutionNetwork()\n",
    "    cnn.fit(data)"
   ]
  },
  {
   "cell_type": "code",
   "execution_count": null,
   "metadata": {
    "collapsed": true
   },
   "outputs": [],
   "source": []
  },
  {
   "cell_type": "code",
   "execution_count": 19,
   "metadata": {
    "collapsed": false
   },
   "outputs": [
    {
     "name": "stdout",
     "output_type": "stream",
     "text": [
      "[[-0.13952662  0.1570312  -0.71920374]\n",
      " [ 1.24095539  0.9646782   0.25817817]\n",
      " [-0.09433619  0.02128432 -0.44333165]]\n"
     ]
    }
   ],
   "source": [
    "data = np.random.randn(5,5)\n",
    "print data[0:3,0:3]"
   ]
  },
  {
   "cell_type": "code",
   "execution_count": null,
   "metadata": {
    "collapsed": true
   },
   "outputs": [],
   "source": []
  }
 ],
 "metadata": {
  "kernelspec": {
   "display_name": "Python 2",
   "language": "python",
   "name": "python2"
  },
  "language_info": {
   "codemirror_mode": {
    "name": "ipython",
    "version": 2
   },
   "file_extension": ".py",
   "mimetype": "text/x-python",
   "name": "python",
   "nbconvert_exporter": "python",
   "pygments_lexer": "ipython2",
   "version": "2.7.11"
  }
 },
 "nbformat": 4,
 "nbformat_minor": 0
}
