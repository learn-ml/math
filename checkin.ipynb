{
 "cells": [
  {
   "cell_type": "markdown",
   "metadata": {},
   "source": [
    "11.20\n",
    "---\n",
    "### 0x01. 随机变量的基本概念\n",
    "随机变量是把样本空间映射到实数空间，通常样本空间中的样本点和随机事件都与实际问题联系比较紧密，如：抛硬币正反面，产品合格不合格，电视机寿命是多少年，炮弹打多远等等，这些问题在样本空间的范畴不能反应问题的本质。通过引入随机变量，把这些具体问题的随机事件用实数轴上的点来表示，这样既能方便的描述问题的本质，也能把微积分理论引入到随机现象的研究中来。\n",
    "\n",
    "### 0x02. 离散型随机变量及其分布律\n",
    "#### 1. 离散型随机变量\n",
    "若随机变量X取至多可列个值，则称X为离散型随机变量 \n",
    "#### 2. 离散型随机变量分布律\n",
    "设随机变量X可能的取值为$x_{k}(k=1,2,3,...)$记$$P\\{X=x_{k}\\} = p_{k}(k=1,2,3,...)$$为离散型随机变量的分布律。\n",
    "#### 3. 两点分布\n",
    "#### 4. 伯努利概型与二项分布\n",
    "#### 5. 泊松定理\n",
    "#### 6. 泊松分布与泊松流\n",
    "\n",
    "### 0x03. 连续型随机变量及其密度函数\n",
    "若随机变量的取值充满了一个连续的实数区间，如：产品使用寿命、设计弹着点的坐标、一个地区的年平均气温及年平均降水量等随机变量，这种取值无法通过离散型随机变量逐点描述的方式来表述概率特性，因此引入连续性随机变量。\n",
    "#### 定义\n",
    "对于随机变量X，如果存在非负可积函数$f(x)$,使得对于任意实数$a,b(a<b)$有$$P\\{a\\lt X \\le b\\}=\\int_{a}^{b}f(x)d_{x}$$则称X为连续型随机变量，称$f(x)$为概率密度函数（简称密度函数或密度）."
   ]
  },
  {
   "cell_type": "markdown",
   "metadata": {
    "collapsed": true
   },
   "source": [
    "11.21\n",
    "---\n",
    "### 连续型随机变量分布律\n",
    "#### 均匀分布\n",
    "$X \\sim U(a,b)$\n",
    "\n",
    "密度函数：$$\\begin{cases}\n",
    "\\frac{1}{b-a}& \\text{ if } a < x < b \\\\ \n",
    "0 & \\text{other }\n",
    "\\end{cases}$$\n",
    "#### 指数分布\n",
    "指数分布式用来描述寿命的一种概率分布\n",
    "$X \\sim Exp(\\lambda)$\n",
    "密度函数:$$\n",
    "$$\\begin{cases}\n",
    "\\lambda e^{-\\lambda x}& x > 0\\\\ \n",
    "0 & x\\le0\n",
    "\\end{cases}$$\n",
    "$$\n",
    "#### 伽马分布\n",
    "#### 正态分布"
   ]
  },
  {
   "cell_type": "code",
   "execution_count": null,
   "metadata": {
    "collapsed": true
   },
   "outputs": [],
   "source": []
  }
 ],
 "metadata": {
  "kernelspec": {
   "display_name": "Python 2",
   "language": "python",
   "name": "python2"
  },
  "language_info": {
   "codemirror_mode": {
    "name": "ipython",
    "version": 2
   },
   "file_extension": ".py",
   "mimetype": "text/x-python",
   "name": "python",
   "nbconvert_exporter": "python",
   "pygments_lexer": "ipython2",
   "version": "2.7.11"
  }
 },
 "nbformat": 4,
 "nbformat_minor": 0
}
