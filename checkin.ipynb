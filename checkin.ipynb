{
 "cells": [
  {
   "cell_type": "markdown",
   "metadata": {},
   "source": [
    "11.20\n",
    "---\n",
    "### 0x01. 随机变量的基本概念\n",
    "随机变量是把样本空间映射到实数空间，通常样本空间中的样本点和随机事件都与实际问题联系比较紧密，如：抛硬币正反面，产品合格不合格，电视机寿命是多少年，炮弹打多远等等，这些问题在样本空间的范畴不能反应问题的本质。通过引入随机变量，把这些具体问题的随机事件用实数轴上的点来表示，这样既能方便的描述问题的本质，也能把微积分理论引入到随机现象的研究中来。\n",
    "\n",
    "### 0x02. 离散型随机变量及其分布律\n",
    "#### 1. 离散型随机变量\n",
    "若随机变量X取至多可列个值，则称X为离散型随机变量 \n",
    "#### 2. 离散型随机变量分布律\n",
    "设随机变量X可能的取值为$x_{k}(k=1,2,3,...)$记$$P\\{X=x_{k}\\} = p_{k}(k=1,2,3,...)$$为离散型随机变量的分布律。\n",
    "#### 3. 两点分布\n",
    "#### 4. 伯努利概型与二项分布\n",
    "#### 5. 泊松定理\n",
    "#### 6. 泊松分布与泊松流\n",
    "\n",
    "### 0x03. 连续型随机变量及其密度函数\n",
    "若随机变量的取值充满了一个连续的实数区间，如：产品使用寿命、设计弹着点的坐标、一个地区的年平均气温及年平均降水量等随机变量，这种取值无法通过离散型随机变量逐点描述的方式来表述概率特性，因此引入连续性随机变量。\n",
    "#### 定义\n",
    "对于随机变量X，如果存在非负可积函数$f(x)$,使得对于任意实数$a,b(a<b)$有$$P\\{a\\lt X \\le b\\}=\\int_{a}^{b}f(x)d_{x}$$则称X为连续型随机变量，称$f(x)$为概率密度函数（简称密度函数或密度）."
   ]
  },
  {
   "cell_type": "markdown",
   "metadata": {
    "collapsed": true
   },
   "source": [
    "11.21\n",
    "---\n",
    "### 连续型随机变量分布律\n",
    "#### 均匀分布\n",
    "$X \\sim U(a,b)$\n",
    "\n",
    "密度函数：$$\\begin{cases}\n",
    "\\frac{1}{b-a}& \\text{ if } a < x < b \\\\ \n",
    "0 & \\text{other }\n",
    "\\end{cases}$$\n",
    "#### 指数分布\n",
    "指数分布式用来描述寿命的一种概率分布\n",
    "$X \\sim Exp(\\lambda)$\n",
    "密度函数:\n",
    "$$\\begin{cases}\n",
    "\\lambda e^{-\\lambda x}& x > 0\\\\ \n",
    "0 & x\\le0\n",
    "\\end{cases}\n",
    "$$\n",
    "#### 伽马分布\n",
    "#### 正态分布"
   ]
  },
  {
   "cell_type": "markdown",
   "metadata": {
    "collapsed": true
   },
   "source": [
    "11.22\n",
    "---\n",
    "### 行列式\n",
    "#### 二元线性方程组与行列式\n",
    "#### 三阶行列式"
   ]
  },
  {
   "cell_type": "markdown",
   "metadata": {},
   "source": [
    "11.23\n",
    "---\n",
    "### 行列式\n",
    "#### 高阶行列式\n",
    "$$\\sum(-1)^t a_{1}p_{1}a_{2}p_{2}...a_{n}p_{n}$$\n",
    "其中t是逆序数，$p1,p2,...,pn$为1到n的全排列.\n",
    "#### 行列式的性质\n",
    "一共六个性质，两个推论\n",
    "#### 行列式展开\n",
    "    1. 余子式，代数余子式\n",
    "    2. 行列式展开法则：行列式等于它的任意一行（列）的个元素与其代数余子式之和，即：\n",
    "$$D=\\sum_{j=1}^{n}a_{ij}A_{ij} $$ 其中i代表任一行标 或：\n",
    "$$D=\\sum_{i=1}^{n}a_{ij}A_{ij}$$ 其中j代表任一列标.\n",
    "### 矩阵及其运算\n",
    "#### 线性方程组和矩阵\n",
    "    1. 线性方程组、矩阵定义\n",
    "    2. 线性变换、对角矩阵、单位矩阵、恒等变换\n",
    "#### 矩阵的运算\n",
    "    1. 矩阵加法\n",
    "    2. 数与矩阵相乘\n",
    "    3. 矩阵与矩阵相乘\n",
    "    4. 矩阵转置\n",
    "    5. 方阵的行列式\n",
    "#### 逆矩阵\n"
   ]
  },
  {
   "cell_type": "markdown",
   "metadata": {},
   "source": [
    "11.24\n",
    "---\n",
    "### 矩阵及其运算\n",
    "#### 逆矩阵的应用\n",
    "#### 克拉默法则\n",
    "#### 矩阵分块法"
   ]
  },
  {
   "cell_type": "markdown",
   "metadata": {},
   "source": [
    "11.25\n",
    "---\n",
    "### 矩阵的初等变换与线性方程组\n",
    "#### 矩阵的初等变换\n",
    "#### 矩阵的秩\n",
    "#### 线性方程组的解"
   ]
  },
  {
   "cell_type": "markdown",
   "metadata": {
    "collapsed": true
   },
   "source": [
    "11.26\n",
    "---\n",
    "### 向量的线性相关性\n",
    "#### 向量及其线性组合\n",
    "#### 向量的线性相关性"
   ]
  },
  {
   "cell_type": "markdown",
   "metadata": {
    "collapsed": true
   },
   "source": [
    "11.27\n",
    "---\n",
    "### 向量的线性相关性\n",
    "#### 向量组的秩"
   ]
  },
  {
   "cell_type": "markdown",
   "metadata": {},
   "source": [
    "11.28\n",
    "---\n",
    "### 向量的线性相关性\n",
    "#### 线性方程组的解的结构\n",
    "#### 向量空间"
   ]
  },
  {
   "cell_type": "markdown",
   "metadata": {},
   "source": [
    "11.29\n",
    "---\n",
    "### 相似矩阵及二次型\n",
    "#### 向量的内积、长度及正交性\n",
    "#### 方阵的特征值与特征向量"
   ]
  },
  {
   "cell_type": "markdown",
   "metadata": {},
   "source": [
    "11.30\n",
    "---\n",
    "### Numpy\n",
    "#### ndarray对象\n",
    "    1. 创建\n",
    "    2. 存取元素\n",
    "    3. 多维数组\n",
    "    4. 结构数组\n",
    "    5. 内存结构\n",
    "### 相似矩阵及二次型\n",
    "#### 相似矩阵\n",
    "### 机器学习\n",
    "#### 模型评估与选择\n",
    "    1. 错误率、精度\n",
    "    2. 误差（训练误差、泛化误差）\n",
    "#### 评估方法\n",
    "    1. 数据划分：留出法、自助采样、交叉验证\n",
    "    2. 采样方法：分层采样、自助采样"
   ]
  },
  {
   "cell_type": "markdown",
   "metadata": {
    "collapsed": true
   },
   "source": [
    "12.1\n",
    "---\n",
    "### 机器学习\n",
    "#### 评估方法\n",
    "    1. 查准率\n",
    "    2. 查全率\n",
    "    3. F1\n",
    "### Numpy\n",
    "#### 预定义函数\n",
    "#### 广播\n"
   ]
  },
  {
   "cell_type": "markdown",
   "metadata": {
    "collapsed": false
   },
   "source": [
    "12.2\n",
    "---\n",
    "### Numpy\n",
    "#### 常用函数\n",
    "#### 文件操作\n",
    "### Matplotlib"
   ]
  },
  {
   "cell_type": "markdown",
   "metadata": {
    "collapsed": false
   },
   "source": [
    "12.9\n",
    "---\n",
    "### pandas"
   ]
  },
  {
   "cell_type": "code",
   "execution_count": 15,
   "metadata": {
    "collapsed": false
   },
   "outputs": [
    {
     "data": {
      "text/plain": [
       "0    1.0\n",
       "1    3.0\n",
       "2    5.0\n",
       "3    NaN\n",
       "4    6.0\n",
       "5    8.0\n",
       "dtype: float64"
      ]
     },
     "execution_count": 15,
     "metadata": {},
     "output_type": "execute_result"
    }
   ],
   "source": [
    "import pandas as pd\n",
    "import numpy as np\n",
    "import matplotlib.pyplot as plt\n",
    "# 一维数据\n",
    "s = pd.Series([1, 3, 5, np.nan, 6, 8])\n",
    "s"
   ]
  },
  {
   "cell_type": "code",
   "execution_count": 16,
   "metadata": {
    "collapsed": false
   },
   "outputs": [
    {
     "data": {
      "text/html": [
       "<div>\n",
       "<table border=\"1\" class=\"dataframe\">\n",
       "  <thead>\n",
       "    <tr style=\"text-align: right;\">\n",
       "      <th></th>\n",
       "      <th>A</th>\n",
       "      <th>B</th>\n",
       "      <th>C</th>\n",
       "      <th>D</th>\n",
       "    </tr>\n",
       "  </thead>\n",
       "  <tbody>\n",
       "    <tr>\n",
       "      <th>2016-12-09</th>\n",
       "      <td>1.968651</td>\n",
       "      <td>-1.139141</td>\n",
       "      <td>-0.389745</td>\n",
       "      <td>-0.126086</td>\n",
       "    </tr>\n",
       "    <tr>\n",
       "      <th>2016-12-10</th>\n",
       "      <td>-0.360829</td>\n",
       "      <td>-0.232400</td>\n",
       "      <td>0.478658</td>\n",
       "      <td>0.957847</td>\n",
       "    </tr>\n",
       "    <tr>\n",
       "      <th>2016-12-11</th>\n",
       "      <td>1.885744</td>\n",
       "      <td>-0.709779</td>\n",
       "      <td>-0.358930</td>\n",
       "      <td>-0.239134</td>\n",
       "    </tr>\n",
       "    <tr>\n",
       "      <th>2016-12-12</th>\n",
       "      <td>0.494197</td>\n",
       "      <td>1.088236</td>\n",
       "      <td>-0.157116</td>\n",
       "      <td>-0.887710</td>\n",
       "    </tr>\n",
       "    <tr>\n",
       "      <th>2016-12-13</th>\n",
       "      <td>0.258558</td>\n",
       "      <td>-0.023414</td>\n",
       "      <td>-2.204672</td>\n",
       "      <td>-1.048449</td>\n",
       "    </tr>\n",
       "    <tr>\n",
       "      <th>2016-12-14</th>\n",
       "      <td>0.387750</td>\n",
       "      <td>-0.684570</td>\n",
       "      <td>0.786703</td>\n",
       "      <td>-0.400111</td>\n",
       "    </tr>\n",
       "  </tbody>\n",
       "</table>\n",
       "</div>"
      ],
      "text/plain": [
       "                   A         B         C         D\n",
       "2016-12-09  1.968651 -1.139141 -0.389745 -0.126086\n",
       "2016-12-10 -0.360829 -0.232400  0.478658  0.957847\n",
       "2016-12-11  1.885744 -0.709779 -0.358930 -0.239134\n",
       "2016-12-12  0.494197  1.088236 -0.157116 -0.887710\n",
       "2016-12-13  0.258558 -0.023414 -2.204672 -1.048449\n",
       "2016-12-14  0.387750 -0.684570  0.786703 -0.400111"
      ]
     },
     "execution_count": 16,
     "metadata": {},
     "output_type": "execute_result"
    }
   ],
   "source": [
    "# 二维数据\n",
    "dates = pd.date_range('2016-12-09', periods=6)\n",
    "df1 = pd.DataFrame(np.random.randn(6, 4), index=dates, columns=list('ABCD'))\n",
    "df1"
   ]
  },
  {
   "cell_type": "code",
   "execution_count": 17,
   "metadata": {
    "collapsed": false
   },
   "outputs": [
    {
     "data": {
      "text/plain": [
       "{'A': 1, 'B': Timestamp('2016-12-19 00:00:00'), 'C': 0    1.0\n",
       " 1    1.0\n",
       " 2    1.0\n",
       " 3    1.0\n",
       " dtype: float32, 'D': array([3, 3, 3, 3], dtype=int32), 'E': [test, train, test, train]\n",
       " Categories (2, object): [test, train], 'F': 'foo'}"
      ]
     },
     "execution_count": 17,
     "metadata": {},
     "output_type": "execute_result"
    }
   ],
   "source": [
    "# Creating a DataFrame by passing a dict of objects that can be converted to series-like.\n",
    "dic = {\n",
    "        'A': 1,\n",
    "        'B': pd.Timestamp('20161219'),\n",
    "        'C': pd.Series(1, index=list(range(4)), dtype='float32'),\n",
    "        'D': np.array([3]*4, dtype='int32'),\n",
    "        'E': pd.Categorical(['test', 'train', 'test', 'train']),\n",
    "        'F': 'foo'\n",
    "    }\n",
    "dic"
   ]
  },
  {
   "cell_type": "code",
   "execution_count": 18,
   "metadata": {
    "collapsed": false
   },
   "outputs": [],
   "source": [
    "df2 = pd.DataFrame(dic)"
   ]
  },
  {
   "cell_type": "code",
   "execution_count": 19,
   "metadata": {
    "collapsed": false
   },
   "outputs": [
    {
     "data": {
      "text/plain": [
       "A             int64\n",
       "B    datetime64[ns]\n",
       "C           float32\n",
       "D             int32\n",
       "E          category\n",
       "F            object\n",
       "dtype: object"
      ]
     },
     "execution_count": 19,
     "metadata": {},
     "output_type": "execute_result"
    }
   ],
   "source": [
    "df2.dtypes"
   ]
  },
  {
   "cell_type": "code",
   "execution_count": 20,
   "metadata": {
    "collapsed": false
   },
   "outputs": [
    {
     "data": {
      "text/html": [
       "<div>\n",
       "<table border=\"1\" class=\"dataframe\">\n",
       "  <thead>\n",
       "    <tr style=\"text-align: right;\">\n",
       "      <th></th>\n",
       "      <th>A</th>\n",
       "      <th>B</th>\n",
       "      <th>C</th>\n",
       "      <th>D</th>\n",
       "    </tr>\n",
       "  </thead>\n",
       "  <tbody>\n",
       "    <tr>\n",
       "      <th>2016-12-09</th>\n",
       "      <td>1.968651</td>\n",
       "      <td>-1.139141</td>\n",
       "      <td>-0.389745</td>\n",
       "      <td>-0.126086</td>\n",
       "    </tr>\n",
       "    <tr>\n",
       "      <th>2016-12-10</th>\n",
       "      <td>-0.360829</td>\n",
       "      <td>-0.232400</td>\n",
       "      <td>0.478658</td>\n",
       "      <td>0.957847</td>\n",
       "    </tr>\n",
       "    <tr>\n",
       "      <th>2016-12-11</th>\n",
       "      <td>1.885744</td>\n",
       "      <td>-0.709779</td>\n",
       "      <td>-0.358930</td>\n",
       "      <td>-0.239134</td>\n",
       "    </tr>\n",
       "    <tr>\n",
       "      <th>2016-12-12</th>\n",
       "      <td>0.494197</td>\n",
       "      <td>1.088236</td>\n",
       "      <td>-0.157116</td>\n",
       "      <td>-0.887710</td>\n",
       "    </tr>\n",
       "    <tr>\n",
       "      <th>2016-12-13</th>\n",
       "      <td>0.258558</td>\n",
       "      <td>-0.023414</td>\n",
       "      <td>-2.204672</td>\n",
       "      <td>-1.048449</td>\n",
       "    </tr>\n",
       "  </tbody>\n",
       "</table>\n",
       "</div>"
      ],
      "text/plain": [
       "                   A         B         C         D\n",
       "2016-12-09  1.968651 -1.139141 -0.389745 -0.126086\n",
       "2016-12-10 -0.360829 -0.232400  0.478658  0.957847\n",
       "2016-12-11  1.885744 -0.709779 -0.358930 -0.239134\n",
       "2016-12-12  0.494197  1.088236 -0.157116 -0.887710\n",
       "2016-12-13  0.258558 -0.023414 -2.204672 -1.048449"
      ]
     },
     "execution_count": 20,
     "metadata": {},
     "output_type": "execute_result"
    }
   ],
   "source": [
    "df1.head()"
   ]
  },
  {
   "cell_type": "code",
   "execution_count": 21,
   "metadata": {
    "collapsed": false
   },
   "outputs": [
    {
     "data": {
      "text/html": [
       "<div>\n",
       "<table border=\"1\" class=\"dataframe\">\n",
       "  <thead>\n",
       "    <tr style=\"text-align: right;\">\n",
       "      <th></th>\n",
       "      <th>A</th>\n",
       "      <th>B</th>\n",
       "      <th>C</th>\n",
       "      <th>D</th>\n",
       "    </tr>\n",
       "  </thead>\n",
       "  <tbody>\n",
       "    <tr>\n",
       "      <th>2016-12-12</th>\n",
       "      <td>0.494197</td>\n",
       "      <td>1.088236</td>\n",
       "      <td>-0.157116</td>\n",
       "      <td>-0.887710</td>\n",
       "    </tr>\n",
       "    <tr>\n",
       "      <th>2016-12-13</th>\n",
       "      <td>0.258558</td>\n",
       "      <td>-0.023414</td>\n",
       "      <td>-2.204672</td>\n",
       "      <td>-1.048449</td>\n",
       "    </tr>\n",
       "    <tr>\n",
       "      <th>2016-12-14</th>\n",
       "      <td>0.387750</td>\n",
       "      <td>-0.684570</td>\n",
       "      <td>0.786703</td>\n",
       "      <td>-0.400111</td>\n",
       "    </tr>\n",
       "  </tbody>\n",
       "</table>\n",
       "</div>"
      ],
      "text/plain": [
       "                   A         B         C         D\n",
       "2016-12-12  0.494197  1.088236 -0.157116 -0.887710\n",
       "2016-12-13  0.258558 -0.023414 -2.204672 -1.048449\n",
       "2016-12-14  0.387750 -0.684570  0.786703 -0.400111"
      ]
     },
     "execution_count": 21,
     "metadata": {},
     "output_type": "execute_result"
    }
   ],
   "source": [
    "df1.tail(3)"
   ]
  },
  {
   "cell_type": "code",
   "execution_count": 22,
   "metadata": {
    "collapsed": false
   },
   "outputs": [
    {
     "data": {
      "text/plain": [
       "DatetimeIndex(['2016-12-09', '2016-12-10', '2016-12-11', '2016-12-12',\n",
       "               '2016-12-13', '2016-12-14'],\n",
       "              dtype='datetime64[ns]', freq='D')"
      ]
     },
     "execution_count": 22,
     "metadata": {},
     "output_type": "execute_result"
    }
   ],
   "source": [
    "df1.index"
   ]
  },
  {
   "cell_type": "code",
   "execution_count": 24,
   "metadata": {
    "collapsed": false
   },
   "outputs": [
    {
     "data": {
      "text/html": [
       "<div>\n",
       "<table border=\"1\" class=\"dataframe\">\n",
       "  <thead>\n",
       "    <tr style=\"text-align: right;\">\n",
       "      <th></th>\n",
       "      <th>A</th>\n",
       "      <th>B</th>\n",
       "      <th>C</th>\n",
       "      <th>D</th>\n",
       "    </tr>\n",
       "  </thead>\n",
       "  <tbody>\n",
       "    <tr>\n",
       "      <th>count</th>\n",
       "      <td>6.000000</td>\n",
       "      <td>6.000000</td>\n",
       "      <td>6.000000</td>\n",
       "      <td>6.000000</td>\n",
       "    </tr>\n",
       "    <tr>\n",
       "      <th>mean</th>\n",
       "      <td>0.772345</td>\n",
       "      <td>-0.283511</td>\n",
       "      <td>-0.307517</td>\n",
       "      <td>-0.290607</td>\n",
       "    </tr>\n",
       "    <tr>\n",
       "      <th>std</th>\n",
       "      <td>0.942777</td>\n",
       "      <td>0.778024</td>\n",
       "      <td>1.043706</td>\n",
       "      <td>0.711505</td>\n",
       "    </tr>\n",
       "    <tr>\n",
       "      <th>min</th>\n",
       "      <td>-0.360829</td>\n",
       "      <td>-1.139141</td>\n",
       "      <td>-2.204672</td>\n",
       "      <td>-1.048449</td>\n",
       "    </tr>\n",
       "    <tr>\n",
       "      <th>25%</th>\n",
       "      <td>0.290856</td>\n",
       "      <td>-0.703477</td>\n",
       "      <td>-0.382041</td>\n",
       "      <td>-0.765810</td>\n",
       "    </tr>\n",
       "    <tr>\n",
       "      <th>50%</th>\n",
       "      <td>0.440973</td>\n",
       "      <td>-0.458485</td>\n",
       "      <td>-0.258023</td>\n",
       "      <td>-0.319622</td>\n",
       "    </tr>\n",
       "    <tr>\n",
       "      <th>75%</th>\n",
       "      <td>1.537857</td>\n",
       "      <td>-0.075661</td>\n",
       "      <td>0.319714</td>\n",
       "      <td>-0.154348</td>\n",
       "    </tr>\n",
       "    <tr>\n",
       "      <th>max</th>\n",
       "      <td>1.968651</td>\n",
       "      <td>1.088236</td>\n",
       "      <td>0.786703</td>\n",
       "      <td>0.957847</td>\n",
       "    </tr>\n",
       "  </tbody>\n",
       "</table>\n",
       "</div>"
      ],
      "text/plain": [
       "              A         B         C         D\n",
       "count  6.000000  6.000000  6.000000  6.000000\n",
       "mean   0.772345 -0.283511 -0.307517 -0.290607\n",
       "std    0.942777  0.778024  1.043706  0.711505\n",
       "min   -0.360829 -1.139141 -2.204672 -1.048449\n",
       "25%    0.290856 -0.703477 -0.382041 -0.765810\n",
       "50%    0.440973 -0.458485 -0.258023 -0.319622\n",
       "75%    1.537857 -0.075661  0.319714 -0.154348\n",
       "max    1.968651  1.088236  0.786703  0.957847"
      ]
     },
     "execution_count": 24,
     "metadata": {},
     "output_type": "execute_result"
    }
   ],
   "source": [
    "df1.describe()"
   ]
  },
  {
   "cell_type": "code",
   "execution_count": 25,
   "metadata": {
    "collapsed": false
   },
   "outputs": [
    {
     "data": {
      "text/html": [
       "<div>\n",
       "<table border=\"1\" class=\"dataframe\">\n",
       "  <thead>\n",
       "    <tr style=\"text-align: right;\">\n",
       "      <th></th>\n",
       "      <th>2016-12-09 00:00:00</th>\n",
       "      <th>2016-12-10 00:00:00</th>\n",
       "      <th>2016-12-11 00:00:00</th>\n",
       "      <th>2016-12-12 00:00:00</th>\n",
       "      <th>2016-12-13 00:00:00</th>\n",
       "      <th>2016-12-14 00:00:00</th>\n",
       "    </tr>\n",
       "  </thead>\n",
       "  <tbody>\n",
       "    <tr>\n",
       "      <th>A</th>\n",
       "      <td>1.968651</td>\n",
       "      <td>-0.360829</td>\n",
       "      <td>1.885744</td>\n",
       "      <td>0.494197</td>\n",
       "      <td>0.258558</td>\n",
       "      <td>0.387750</td>\n",
       "    </tr>\n",
       "    <tr>\n",
       "      <th>B</th>\n",
       "      <td>-1.139141</td>\n",
       "      <td>-0.232400</td>\n",
       "      <td>-0.709779</td>\n",
       "      <td>1.088236</td>\n",
       "      <td>-0.023414</td>\n",
       "      <td>-0.684570</td>\n",
       "    </tr>\n",
       "    <tr>\n",
       "      <th>C</th>\n",
       "      <td>-0.389745</td>\n",
       "      <td>0.478658</td>\n",
       "      <td>-0.358930</td>\n",
       "      <td>-0.157116</td>\n",
       "      <td>-2.204672</td>\n",
       "      <td>0.786703</td>\n",
       "    </tr>\n",
       "    <tr>\n",
       "      <th>D</th>\n",
       "      <td>-0.126086</td>\n",
       "      <td>0.957847</td>\n",
       "      <td>-0.239134</td>\n",
       "      <td>-0.887710</td>\n",
       "      <td>-1.048449</td>\n",
       "      <td>-0.400111</td>\n",
       "    </tr>\n",
       "  </tbody>\n",
       "</table>\n",
       "</div>"
      ],
      "text/plain": [
       "   2016-12-09  2016-12-10  2016-12-11  2016-12-12  2016-12-13  2016-12-14\n",
       "A    1.968651   -0.360829    1.885744    0.494197    0.258558    0.387750\n",
       "B   -1.139141   -0.232400   -0.709779    1.088236   -0.023414   -0.684570\n",
       "C   -0.389745    0.478658   -0.358930   -0.157116   -2.204672    0.786703\n",
       "D   -0.126086    0.957847   -0.239134   -0.887710   -1.048449   -0.400111"
      ]
     },
     "execution_count": 25,
     "metadata": {},
     "output_type": "execute_result"
    }
   ],
   "source": [
    "df1.T"
   ]
  },
  {
   "cell_type": "code",
   "execution_count": 26,
   "metadata": {
    "collapsed": false
   },
   "outputs": [
    {
     "data": {
      "text/html": [
       "<div>\n",
       "<table border=\"1\" class=\"dataframe\">\n",
       "  <thead>\n",
       "    <tr style=\"text-align: right;\">\n",
       "      <th></th>\n",
       "      <th>A</th>\n",
       "      <th>B</th>\n",
       "      <th>C</th>\n",
       "      <th>D</th>\n",
       "    </tr>\n",
       "  </thead>\n",
       "  <tbody>\n",
       "    <tr>\n",
       "      <th>2016-12-09</th>\n",
       "      <td>1.968651</td>\n",
       "      <td>-1.139141</td>\n",
       "      <td>-0.389745</td>\n",
       "      <td>-0.126086</td>\n",
       "    </tr>\n",
       "    <tr>\n",
       "      <th>2016-12-11</th>\n",
       "      <td>1.885744</td>\n",
       "      <td>-0.709779</td>\n",
       "      <td>-0.358930</td>\n",
       "      <td>-0.239134</td>\n",
       "    </tr>\n",
       "    <tr>\n",
       "      <th>2016-12-14</th>\n",
       "      <td>0.387750</td>\n",
       "      <td>-0.684570</td>\n",
       "      <td>0.786703</td>\n",
       "      <td>-0.400111</td>\n",
       "    </tr>\n",
       "    <tr>\n",
       "      <th>2016-12-10</th>\n",
       "      <td>-0.360829</td>\n",
       "      <td>-0.232400</td>\n",
       "      <td>0.478658</td>\n",
       "      <td>0.957847</td>\n",
       "    </tr>\n",
       "    <tr>\n",
       "      <th>2016-12-13</th>\n",
       "      <td>0.258558</td>\n",
       "      <td>-0.023414</td>\n",
       "      <td>-2.204672</td>\n",
       "      <td>-1.048449</td>\n",
       "    </tr>\n",
       "    <tr>\n",
       "      <th>2016-12-12</th>\n",
       "      <td>0.494197</td>\n",
       "      <td>1.088236</td>\n",
       "      <td>-0.157116</td>\n",
       "      <td>-0.887710</td>\n",
       "    </tr>\n",
       "  </tbody>\n",
       "</table>\n",
       "</div>"
      ],
      "text/plain": [
       "                   A         B         C         D\n",
       "2016-12-09  1.968651 -1.139141 -0.389745 -0.126086\n",
       "2016-12-11  1.885744 -0.709779 -0.358930 -0.239134\n",
       "2016-12-14  0.387750 -0.684570  0.786703 -0.400111\n",
       "2016-12-10 -0.360829 -0.232400  0.478658  0.957847\n",
       "2016-12-13  0.258558 -0.023414 -2.204672 -1.048449\n",
       "2016-12-12  0.494197  1.088236 -0.157116 -0.887710"
      ]
     },
     "execution_count": 26,
     "metadata": {},
     "output_type": "execute_result"
    }
   ],
   "source": [
    "df1.sort_values(by='B')"
   ]
  },
  {
   "cell_type": "code",
   "execution_count": 28,
   "metadata": {
    "collapsed": false
   },
   "outputs": [
    {
     "data": {
      "text/plain": [
       "2016-12-09    1.968651\n",
       "2016-12-10   -0.360829\n",
       "2016-12-11    1.885744\n",
       "2016-12-12    0.494197\n",
       "2016-12-13    0.258558\n",
       "2016-12-14    0.387750\n",
       "Freq: D, Name: A, dtype: float64"
      ]
     },
     "execution_count": 28,
     "metadata": {},
     "output_type": "execute_result"
    }
   ],
   "source": [
    "df1['A']"
   ]
  },
  {
   "cell_type": "code",
   "execution_count": 31,
   "metadata": {
    "collapsed": false
   },
   "outputs": [
    {
     "data": {
      "text/html": [
       "<div>\n",
       "<table border=\"1\" class=\"dataframe\">\n",
       "  <thead>\n",
       "    <tr style=\"text-align: right;\">\n",
       "      <th></th>\n",
       "      <th>A</th>\n",
       "      <th>B</th>\n",
       "      <th>C</th>\n",
       "      <th>D</th>\n",
       "    </tr>\n",
       "  </thead>\n",
       "  <tbody>\n",
       "    <tr>\n",
       "      <th>2016-12-10</th>\n",
       "      <td>-0.360829</td>\n",
       "      <td>-0.232400</td>\n",
       "      <td>0.478658</td>\n",
       "      <td>0.957847</td>\n",
       "    </tr>\n",
       "    <tr>\n",
       "      <th>2016-12-11</th>\n",
       "      <td>1.885744</td>\n",
       "      <td>-0.709779</td>\n",
       "      <td>-0.358930</td>\n",
       "      <td>-0.239134</td>\n",
       "    </tr>\n",
       "  </tbody>\n",
       "</table>\n",
       "</div>"
      ],
      "text/plain": [
       "                   A         B         C         D\n",
       "2016-12-10 -0.360829 -0.232400  0.478658  0.957847\n",
       "2016-12-11  1.885744 -0.709779 -0.358930 -0.239134"
      ]
     },
     "execution_count": 31,
     "metadata": {},
     "output_type": "execute_result"
    }
   ],
   "source": [
    "df1[1:3]"
   ]
  },
  {
   "cell_type": "code",
   "execution_count": 34,
   "metadata": {
    "collapsed": false
   },
   "outputs": [
    {
     "data": {
      "text/html": [
       "<div>\n",
       "<table border=\"1\" class=\"dataframe\">\n",
       "  <thead>\n",
       "    <tr style=\"text-align: right;\">\n",
       "      <th></th>\n",
       "      <th>A</th>\n",
       "      <th>B</th>\n",
       "      <th>C</th>\n",
       "      <th>D</th>\n",
       "    </tr>\n",
       "  </thead>\n",
       "  <tbody>\n",
       "    <tr>\n",
       "      <th>2016-12-10</th>\n",
       "      <td>-0.360829</td>\n",
       "      <td>-0.232400</td>\n",
       "      <td>0.478658</td>\n",
       "      <td>0.957847</td>\n",
       "    </tr>\n",
       "    <tr>\n",
       "      <th>2016-12-11</th>\n",
       "      <td>1.885744</td>\n",
       "      <td>-0.709779</td>\n",
       "      <td>-0.358930</td>\n",
       "      <td>-0.239134</td>\n",
       "    </tr>\n",
       "    <tr>\n",
       "      <th>2016-12-12</th>\n",
       "      <td>0.494197</td>\n",
       "      <td>1.088236</td>\n",
       "      <td>-0.157116</td>\n",
       "      <td>-0.887710</td>\n",
       "    </tr>\n",
       "    <tr>\n",
       "      <th>2016-12-13</th>\n",
       "      <td>0.258558</td>\n",
       "      <td>-0.023414</td>\n",
       "      <td>-2.204672</td>\n",
       "      <td>-1.048449</td>\n",
       "    </tr>\n",
       "  </tbody>\n",
       "</table>\n",
       "</div>"
      ],
      "text/plain": [
       "                   A         B         C         D\n",
       "2016-12-10 -0.360829 -0.232400  0.478658  0.957847\n",
       "2016-12-11  1.885744 -0.709779 -0.358930 -0.239134\n",
       "2016-12-12  0.494197  1.088236 -0.157116 -0.887710\n",
       "2016-12-13  0.258558 -0.023414 -2.204672 -1.048449"
      ]
     },
     "execution_count": 34,
     "metadata": {},
     "output_type": "execute_result"
    }
   ],
   "source": [
    "df1['2016-12-10':'2016-12-13']"
   ]
  },
  {
   "cell_type": "code",
   "execution_count": 37,
   "metadata": {
    "collapsed": false
   },
   "outputs": [
    {
     "data": {
      "text/plain": [
       "<pandas.core.indexing._LocIndexer at 0x117b19810>"
      ]
     },
     "execution_count": 37,
     "metadata": {},
     "output_type": "execute_result"
    }
   ],
   "source": [
    "df1.loc(dates[0])"
   ]
  },
  {
   "cell_type": "code",
   "execution_count": 39,
   "metadata": {
    "collapsed": false
   },
   "outputs": [
    {
     "data": {
      "text/plain": [
       "1.9686511145831536"
      ]
     },
     "execution_count": 39,
     "metadata": {},
     "output_type": "execute_result"
    }
   ],
   "source": [
    "df1.at[dates[0],'A']"
   ]
  },
  {
   "cell_type": "code",
   "execution_count": 40,
   "metadata": {
    "collapsed": false
   },
   "outputs": [
    {
     "data": {
      "text/plain": [
       "A    0.494197\n",
       "B    1.088236\n",
       "C   -0.157116\n",
       "D   -0.887710\n",
       "Name: 2016-12-12 00:00:00, dtype: float64"
      ]
     },
     "execution_count": 40,
     "metadata": {},
     "output_type": "execute_result"
    }
   ],
   "source": [
    "df1.iloc[3]"
   ]
  },
  {
   "cell_type": "code",
   "execution_count": null,
   "metadata": {
    "collapsed": true
   },
   "outputs": [],
   "source": []
  }
 ],
 "metadata": {
  "kernelspec": {
   "display_name": "Python 2",
   "language": "python",
   "name": "python2"
  },
  "language_info": {
   "codemirror_mode": {
    "name": "ipython",
    "version": 2
   },
   "file_extension": ".py",
   "mimetype": "text/x-python",
   "name": "python",
   "nbconvert_exporter": "python",
   "pygments_lexer": "ipython2",
   "version": "2.7.11"
  }
 },
 "nbformat": 4,
 "nbformat_minor": 0
}
