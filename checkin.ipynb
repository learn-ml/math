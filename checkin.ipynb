{
 "cells": [
  {
   "cell_type": "markdown",
   "metadata": {},
   "source": [
    "11.20\n",
    "---\n",
    "1. 随机变量的基本概念\n",
    ">随机变量是把样本空间映射到实数空间，通常样本空间中的样本点和随机事件都与实际问题联系比较紧密，如：抛硬币正反面，产品合格不合格，电视机寿命是多少年，炮弹打多远等等，这些问题在样本空间的范畴不能反应问题的本质。通过引入随机变量，把这些具体问题的随机事件用实数轴上的点来表示，这样既能方便的描述问题的本质，也能把微积分理论引入到随机现象的研究中来。\n",
    "\n",
    "2. 离散型随机变量及其分布律\n"
   ]
  },
  {
   "cell_type": "code",
   "execution_count": null,
   "metadata": {
    "collapsed": true
   },
   "outputs": [],
   "source": []
  }
 ],
 "metadata": {
  "kernelspec": {
   "display_name": "Python 2",
   "language": "python",
   "name": "python2"
  },
  "language_info": {
   "codemirror_mode": {
    "name": "ipython",
    "version": 2
   },
   "file_extension": ".py",
   "mimetype": "text/x-python",
   "name": "python",
   "nbconvert_exporter": "python",
   "pygments_lexer": "ipython2",
   "version": "2.7.11"
  }
 },
 "nbformat": 4,
 "nbformat_minor": 0
}
